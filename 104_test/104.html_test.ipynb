{
 "cells": [
  {
   "cell_type": "code",
   "execution_count": null,
   "id": "4c4c03d7",
   "metadata": {},
   "outputs": [],
   "source": [
    "import requests\n",
    "from bs4 import BeautifulSoup\n",
    "from time import sleep\n",
    "\n",
    "res=requests.get('https://www.104.com.tw/jobs/search/?ro=0&kwop=7&keyword=%E5%A4%A7%E6%95%B8%E6%93%9A&expansionType=area%2Cspec%2Ccom%2Cjob%2Cwf%2Cwktm&edu=4&order=14&asc=0&page=1&jobexp=1&mode=s&jobsource=2018indexpoc&langFlag=0&langStatus=0&recommendJob=1&hotJob=1')\n",
    "soup=BeautifulSoup(res.text)\n",
    "\n",
    "page=1\n",
    "while soup.find_all('article',class_=\"b-block--top-bord job-list-item b-clearfix js-job-item\")!=[]:\n",
    "    print('=======================')\n",
    "    print('現在正在讀取第',page,'頁')\n",
    "    print('=======================')\n",
    "    #單頁爬蟲\n",
    "    for job in soup.find_all('article',class_=\"b-block--top-bord job-list-item b-clearfix js-job-item\"):\n",
    "        print(job.a.text)\n",
    "        print('https:'+job.a['href'])\n",
    "        print(job.ul.a.text.strip())\n",
    "        print(job.select('ul')[1].li.text)\n",
    "\n",
    "        if  job.find('div',class_=\"job-list-tag b-content\").select('span')!=[] and job.find('div',class_=\"job-list-tag b-content\").select('span')[0].text=='待遇面議':\n",
    "            print(job.find('div',class_=\"job-list-tag b-content\").span.text)\n",
    "        else:\n",
    "            print(job.find('div',class_=\"job-list-tag b-content\").a.text)\n",
    "\n",
    "        print('-----------------------------------------------------------')\n",
    "        \n",
    "    page+=1    \n",
    "    res=requests.get('https://www.104.com.tw/jobs/search/?ro=0&kwop=7&keyword=%E5%A4%A7%E6%95%B8%E6%93%9A&expansionType=area%2Cspec%2Ccom%2Cjob%2Cwf%2Cwktm&edu=4&order=14&asc=0&page='+str(page)+'&jobexp=1&mode=s&jobsource=2018indexpoc&langFlag=0&langStatus=0&recommendJob=1&hotJob=1')\n",
    "    soup=BeautifulSoup(res.text)\n",
    "    sleep(2)\n",
    "    "
   ]
  },
  {
   "cell_type": "code",
   "execution_count": null,
   "id": "585777f6",
   "metadata": {},
   "outputs": [],
   "source": [
    "import openpyxl\n",
    "\n",
    "wb=openpyxl.Workbook()\n",
    "ws=wb.active\n",
    "\n",
    "ws['A1']=\"職缺名稱\"\n",
    "ws['B1']=\"職缺連結\"\n",
    "ws['C1']=\"公司名稱\"\n",
    "ws['D1']=\"工作地區\"\n",
    "ws['E1']=\"薪資待遇\"\n",
    "\n",
    "ws.append(['大數據分析師','www.qweqweqrwr','杏豐有限','台中市西屯區','待遇面議'])\n",
    "\n",
    "wb.save(\"excel測試20230807.xlsx\")"
   ]
  }
 ],
 "metadata": {
  "kernelspec": {
   "display_name": "Python 3 (ipykernel)",
   "language": "python",
   "name": "python3"
  },
  "language_info": {
   "codemirror_mode": {
    "name": "ipython",
    "version": 3
   },
   "file_extension": ".py",
   "mimetype": "text/x-python",
   "name": "python",
   "nbconvert_exporter": "python",
   "pygments_lexer": "ipython3",
   "version": "3.10.9"
  }
 },
 "nbformat": 4,
 "nbformat_minor": 5
}
