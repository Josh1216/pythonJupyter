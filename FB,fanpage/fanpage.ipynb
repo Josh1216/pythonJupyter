{
 "cells": [
  {
   "cell_type": "code",
   "execution_count": 45,
   "id": "86021d9e",
   "metadata": {},
   "outputs": [
    {
     "data": {
      "text/plain": [
       "'{\"success\":true}'"
      ]
     },
     "execution_count": 45,
     "metadata": {},
     "output_type": "execute_result"
    }
   ],
   "source": [
    "116290451523813_101106129726007\n",
    "res=requests.delete(host+\"116290451523813_101106129726007?access_token=\"+token)\n",
    "res.text"
   ]
  },
  {
   "cell_type": "code",
   "execution_count": 59,
   "id": "3d308826",
   "metadata": {},
   "outputs": [
    {
     "name": "stdout",
     "output_type": "stream",
     "text": [
      "請輸入token: EAANYcH5lQZCMBAJSpC82ugi0hVrgoJ4JQvCjgxhpD0cO4RKrw9Vt2Y4W68qmIA0ZCyXHZACDzsBspqEvUCMpr6pEzP9ZCKvlg8C02jl6rHZCjk0pqutET4XD2b1YROBBLN7evQBGIbr8zv5fwZC4cxOOi8DZClhOKVa2yPhKcyc8908QryAuGartI3vk7O33EjF0ITZCXjQ5SaZAZCQFiKxNnc\n",
      "{'id': '116290451523813_101239369712683'}\n",
      "請輸入50到100的數字\n",
      "{'id': '101239369712683_656757063041695'}\n",
      "請輸入50到97的數字\n",
      "{'id': '101239369712683_299810855963659'}\n",
      "恭喜猜對\n"
     ]
    }
   ],
   "source": [
    "import json\n",
    "import requests\n",
    "import random \n",
    "import time\n",
    "num_max=100\n",
    "num_min=1\n",
    "host=\"https://graph.facebook.com/v17.0/\"\n",
    "page_id=\"116290451523813\" #有換粉絲頁要更新專頁id\n",
    "token=input(\"請輸入token: \")\n",
    "ans=random.randint(num_min,num_max)\n",
    "user={} #建立新字典儲存已回覆過的留言\n",
    "res=requests.post(host+page_id+\"/feed?message=遊戲開始,答案為\"+str(ans)+\",請輸入\"+str(num_min)+\"到\"+str(num_max)+\"的數字&access_token=\"+token)\n",
    "jd=json.loads(res.text)\n",
    "print(jd)\n",
    "post_id=jd['id'] #貼文id\n",
    "time.sleep(5)\n",
    "while 1:\n",
    "    #讀取貼文的留言\n",
    "    res=requests.get(host+post_id+\"/comments?access_token=\"+token)\n",
    "    jd=json.loads(res.text)\n",
    "    #判斷是否有新留言\n",
    "    if len(jd['data'])>0 :  #len丈量長度\n",
    "        guess=int(jd['data'][0]['message']) #存猜測的答案\n",
    "        if jd['data'][0]['id'] not in user: #判斷是否存檔過 此為沒存過\n",
    "            user[jd['data'][0]['id']]=[jd['data'][0]['message']] #開始記錄 user={\"留言id:[留言內容,回復id]\"}\n",
    "            if ans == guess:\n",
    "                print(\"恭喜猜對\")\n",
    "                res=requests.post(host+jd['data'][0]['id']+\"/comments?message=恭喜猜對&access_token=\"+token)\n",
    "                break\n",
    "            elif ans>guess:\n",
    "                num_min=guess\n",
    "                print(\"請輸入%d到%d的數字\"%(num_min,num_max))\n",
    "                res=requests.post(host+jd['data'][0]['id']+\"/comments?message=請輸入%d到%d的數字\"%(num_min,num_max)+\"&access_token=\"+token)\n",
    "            else:\n",
    "                num_max=guess\n",
    "                print(\"請輸入%d到%d的數字\"%(num_min,num_max))\n",
    "                res=requests.post(host+jd['data'][0]['id']+\"/comments?message=請輸入%d到%d的數字\"%(num_min,num_max)+\"&access_token=\"+token)\n",
    "            #留下回覆的紀錄\n",
    "            jd2=json.loads(res.text)\n",
    "            print(jd2)\n",
    "            if len(user[jd['data'][0]['id']])==1: #判斷是否已回覆過\n",
    "                user[jd['data'][0]['id']].append(jd2['id']) \n",
    "            else: #已回覆過則覆蓋\n",
    "                user[jd['data'][0]['id']][1]=jd2['id']\n",
    "        else: #此為有存過則提取\n",
    "            if user[jd['data'][0]['id']][0]!=jd['data'][0]['message']:\n",
    "                user[jd['data'][0]['id']][0]=jd['data'][0]['message'] #開始記錄 user={\"留言id:[留言內容,回復id]\"}\n",
    "                if ans == guess:\n",
    "                    print(\"恭喜猜對\")\n",
    "                    res=requests.post(host+jd['data'][0]['id']+\"/comments?message=恭喜猜對&access_token=\"+token)\n",
    "                    break\n",
    "                elif ans>guess:\n",
    "                    num_min=guess\n",
    "                    print(\"請輸入%d到%d的數字\"%(num_min,num_max))\n",
    "                    res=requests.post(host+jd['data'][0]['id']+\"/comments?message=請輸入%d到%d的數字\"%(num_min,num_max)+\"&access_token=\"+token)\n",
    "                else:\n",
    "                    num_max=guess\n",
    "                    print(\"請輸入%d到%d的數字\"%(num_min,num_max))\n",
    "                    res=requests.post(host+jd['data'][0]['id']+\"/comments?message=請輸入%d到%d的數字\"%(num_min,num_max)+\"&access_token=\"+token)\n",
    "                #留下回覆的紀錄\n",
    "                jd2=json.loads(res.text)\n",
    "                print(jd2)\n",
    "                user[jd['data'][0]['id']][1]=jd2['id']\n",
    "    time.sleep(20)"
   ]
  },
  {
   "cell_type": "code",
   "execution_count": null,
   "id": "8fa080f7",
   "metadata": {},
   "outputs": [],
   "source": [
    "#1\n",
    "import random\n",
    "import time\n",
    "import requests\n",
    "import json\n",
    "host=\"https://graph.facebook.com/v17.0/\"\n",
    "page_id=\"116290451523813\"\n",
    "token=\"EAANYcH5lQZCMBAJSpC82ugi0hVrgoJ4JQvCjgxhpD0cO4RKrw9Vt2Y4W68qmIA0ZCyXHZACDzsBspqEvUCMpr6pEzP9ZCKvlg8C02jl6rHZCjk0pqutET4XD2b1YROBBLN7evQBGIbr8zv5fwZC4cxOOi8DZClhOKVa2yPhKcyc8908QryAuGartI3vk7O33EjF0ITZCXjQ5SaZAZCQFiKxNnc\"\n",
    "num_max=100\n",
    "num_min=1\n",
    "ans=random.randint(num_min,num_max)\n",
    "user={}\n",
    "check=0\n",
    "res=requests.post(host+page_id+\"/feed?message=遊戲開始,答案是%d,請輸入%d到%d的數字&access_token=\"%(ans,num_min,num_max)+token)\n",
    "# res=requests.post(host+page_id+\"/feed?message=遊戲開始,答案是\"+str(ans)+\n",
    "#     \",請輸入\"+str(num_min)+\"到\"+str(num_max)+\"的數字&access_token=\"+token)\n",
    "jd=json.loads(res.text)\n",
    "jd2=\"\"\n",
    "print(jd)\n",
    "post_id=jd['id']\n",
    "time.sleep(5)\n",
    "while check==0:\n",
    "    #讀取貼文的留言\n",
    "    res=requests.get(host+post_id+\"/comments?access_token=\"+token)\n",
    "    jd=json.loads(res.text)    \n",
    "    if len(jd['data'])>0:#判斷是否有新留言\n",
    "        guess=int(jd['data'][0]['message'])#存猜測的答案\n",
    "        if jd['data'][0]['id'] not in user:#判斷是否存檔過(沒存過)\n",
    "            user,jd,ans,guess,num_min,num_max,check,jd2=comp(user,jd,ans,guess,num_min,num_max)\n",
    "            print(jd2)\n",
    "            user[jd['data'][0]['id']].append(jd2['id'])\n",
    "        else: #存過\n",
    "            if user[jd['data'][0]['id']][0]!=jd['data'][0]['message']:#判斷留言是否有變化\n",
    "                user,jd,ans,guess,num_min,num_max,check,jd2=comp(user,jd,ans,guess,num_min,num_max)\n",
    "                print(jd2)\n",
    "                user[jd['data'][0]['id']][1]=jd2['id']\n",
    "    time.sleep(20)"
   ]
  },
  {
   "cell_type": "code",
   "execution_count": null,
   "id": "f78648f7",
   "metadata": {},
   "outputs": [],
   "source": [
    "#2\n",
    "def comp(user,jd,ans,guess,num_min,num_max):\n",
    "    user[jd['data'][0]['id']]=[jd['data'][0]['message']]#開始記錄user={\"留言ID\":[留言內容,回覆ID]}\n",
    "    if ans==guess:\n",
    "        print(\"恭喜猜對\")\n",
    "        res=requests.post(host+jd['data'][0]['id']+\"/comments?message=恭喜猜對&access_token=\"+token)\n",
    "        jd2=json.loads(res.text)\n",
    "        return user,jd,ans,guess,num_min,num_max,1,jd2\n",
    "    elif ans>guess:\n",
    "        num_min=guess\n",
    "        print(\"請輸入%d到%d的數字\"%(num_min,num_max))\n",
    "        res=requests.post(host+jd['data'][0]['id']+\"/comments?message=請輸入%d到%d的數字\"%(num_min,num_max)+\"&access_token=\"+token)\n",
    "    else:\n",
    "        num_max=guess\n",
    "        print(\"請輸入%d到%d的數字\"%(num_min,num_max))\n",
    "        res=requests.post(host+jd['data'][0]['id']+\"/comments?message=請輸入%d到%d的數字\"%(num_min,num_max)+\"&access_token=\"+token)\n",
    "    #留下回覆的紀錄\n",
    "    jd2=json.loads(res.text)\n",
    "    return user,jd,ans,guess,num_min,num_max,0,jd2"
   ]
  },
  {
   "cell_type": "code",
   "execution_count": 39,
   "id": "473341c2",
   "metadata": {},
   "outputs": [
    {
     "data": {
      "text/plain": [
       "{'data': [{'created_time': '2023-07-12T02:44:04+0000',\n",
       "   'from': {'name': '粉紅色磚塊', 'id': '115311071622970'},\n",
       "   'message': '甜不辣怎麼賣',\n",
       "   'id': '101024359734184_1436814783762101'},\n",
       "  {'created_time': '2023-07-12T01:30:13+0000',\n",
       "   'from': {'name': 'Josh Wang', 'id': '6349539368446490'},\n",
       "   'message': '甜不辣很好吃唷!',\n",
       "   'id': '101024359734184_308113731637636'},\n",
       "  {'created_time': '2023-07-12T01:30:31+0000',\n",
       "   'from': {'name': 'Text0712', 'id': '109958865496356'},\n",
       "   'message': '0',\n",
       "   'id': '101024359734184_978177043235576'}],\n",
       " 'paging': {'cursors': {'before': 'MwZDZD', 'after': 'MQZDZD'}}}"
      ]
     },
     "execution_count": 39,
     "metadata": {},
     "output_type": "execute_result"
    }
   ],
   "source": [
    "#刪除一定時間的貼文\n",
    "res=requests.get(host+page_id+\"/posts?since=1689115101&access_token=\"+token)\n",
    "jd=json.loads(res.text)\n",
    "for post in jd['data']:\n",
    "    request.delete(host+post['id']+\"?acess_token=\"+token)"
   ]
  },
  {
   "cell_type": "code",
   "execution_count": null,
   "id": "56d6a588",
   "metadata": {},
   "outputs": [],
   "source": []
  }
 ],
 "metadata": {
  "kernelspec": {
   "display_name": "Python 3 (ipykernel)",
   "language": "python",
   "name": "python3"
  },
  "language_info": {
   "codemirror_mode": {
    "name": "ipython",
    "version": 3
   },
   "file_extension": ".py",
   "mimetype": "text/x-python",
   "name": "python",
   "nbconvert_exporter": "python",
   "pygments_lexer": "ipython3",
   "version": "3.10.9"
  }
 },
 "nbformat": 4,
 "nbformat_minor": 5
}
