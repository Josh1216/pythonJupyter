{
 "cells": [
  {
   "cell_type": "code",
   "execution_count": null,
   "id": "6cb63722",
   "metadata": {
    "scrolled": true
   },
   "outputs": [],
   "source": [
    "!pip install pymessenger"
   ]
  },
  {
   "cell_type": "code",
   "execution_count": null,
   "id": "ccd45767",
   "metadata": {},
   "outputs": [],
   "source": [
    "#需要用的模組\n",
    "from flask import Flask, request\n",
    "#定義APP\n",
    "app=Flask(__name__)\n",
    "#定義第一種route網址與模式\n",
    "@app.route(\"/\", methods=['GET'])\n",
    "def aa():\n",
    "    print(\"登錄成功並在網址增加此/user/ID=<user_id>&message=<message>\")\n",
    "    return \"登錄OK\"#以字串型式在瀏覽器顯示\n",
    "#定義第二種route網址與模式\n",
    "@app.route(\"/user/ID=<user_id>&message=<message>\", methods=['GET'])\n",
    "def bb(user_id,message):\n",
    "    UID={}\n",
    "    UID[user_id]=message\n",
    "    print(UID)\n",
    "    STR=\"你的使用者ID:\"+user_id+\"\\n你的留言:\"+message+\"\n",
    "    return STR#以字串型式在瀏覽器顯示\n",
    "if __name__ == \"__main__\":\n",
    "    app.run(port=1216)"
   ]
  },
  {
   "cell_type": "code",
   "execution_count": null,
   "id": "b1555f7f",
   "metadata": {},
   "outputs": [],
   "source": [
    "https://65ec-2402-7500-92d-1f2-a1ca-754f-a5b9-6d80.ngrok-free.app/verify"
   ]
  },
  {
   "cell_type": "code",
   "execution_count": null,
   "id": "3fd84222",
   "metadata": {},
   "outputs": [],
   "source": [
    "import os, sys\n",
    "import json\n",
    "from flask import Flask, request\n",
    "from pymessenger import Bot\n",
    "#https://github.com/davidchua/pymessenger\n",
    "app = Flask(__name__)\n",
    "PAGE_ACCESS_TOKEN = \"EAANYcH5lQZCMBAHU1tDhgO7bmkBgQtJD83vT9ZAAlKnAQEHurqUrYOZC8p9qna3fZCfsbNCsxucJ8ifmBkIlFV4ludX3XV53ehB0umvhuojpK0OuEBNZBT7On6nbMCZBHNYt7u6coPgBqGZBQ4pA2PnWOANccWXhcmhHe1et4psyb820ArSAaHL\"\n",
    "bot = Bot(PAGE_ACCESS_TOKEN)\n",
    "num1={\"A\":\"營業時間\",\"B\":\"連絡電話\",\"C\":\"營業地址\"}\n",
    "str1=\"可以輸入以下代碼查詢資料A:營業時間,B:連絡電話,C:營業地址\"\n",
    "@app.route('/', methods=['GET'])\n",
    "def test():\n",
    "    return \"沒看到沒東西嗎,還在學啦\", 200\n",
    "@app.route('/verify', methods=['GET'])\n",
    "def verify():\n",
    " # Webhook verification\n",
    "    print(request.args)\n",
    "    if request.args.get(\"hub.mode\") == \"subscribe\" and request.args.get(\"hub.challenge\"):\n",
    "        if not request.args.get(\"hub.verify_token\") == \"1234\":\n",
    "            return \"Verification token mismatch\", 403\n",
    "        return request.args[\"hub.challenge\"], 200\n",
    "    return \"放下屠刀,拿起AK\", 200\n",
    "@app.route('/verify', methods=['POST'])\n",
    "def webhook():\n",
    "    data = request.get_json()\n",
    "    log(data)\n",
    "    if data['object'] == 'page':\n",
    "        for entry in data['entry']:\n",
    "            for messaging_event in entry['messaging']:\n",
    "                # IDs\n",
    "                sender_id = messaging_event['sender']['id']\n",
    "                recipient_id = messaging_event['recipient']['id']\n",
    "                if 'message' in messaging_event:\n",
    "                     # Extracting text message\n",
    "                    if 'text' in messaging_event['message']:\n",
    "                        text=messaging_event['message']['text']\n",
    "                        print(\"ID:%s,Text:%s\"%(messaging_event['sender']['id'],text))\n",
    "                        if text==\"A\" or text==\"B\" or text==\"C\":\n",
    "                            bot.send_text_message(sender_id,num1[text])\n",
    "                        else:\n",
    "                            bot.send_text_message(sender_id,str1)\n",
    "                return \"ok\", 200\n",
    "def log(message):\n",
    "    print(message)\n",
    "    sys.stdout.flush()\n",
    "if __name__ == \"__main__\":\n",
    "    app.run(port=1216)"
   ]
  },
  {
   "cell_type": "code",
   "execution_count": null,
   "id": "776e280c",
   "metadata": {
    "scrolled": true
   },
   "outputs": [],
   "source": [
    "#猜數字\n",
    "import os, sys\n",
    "import json\n",
    "from flask import Flask, request\n",
    "from pymessenger import Bot\n",
    "#https://github.com/davidchua/pymessenger\n",
    "import random as rd\n",
    "app = Flask(__name__)\n",
    "PAGE_ACCESS_TOKEN = \"EAANYcH5lQZCMBAHU1tDhgO7bmkBgQtJD83vT9ZAAlKnAQEHurqUrYOZC8p9qna3fZCfsbNCsxucJ8ifmBkIlFV4ludX3XV53ehB0umvhuojpK0OuEBNZBT7On6nbMCZBHNYt7u6coPgBqGZBQ4pA2PnWOANccWXhcmhHe1et4psyb820ArSAaHL\"\n",
    "bot = Bot(PAGE_ACCESS_TOKEN)\n",
    "user={}\n",
    "@app.route('/verify', methods=['GET'])\n",
    "def verify():\n",
    " # Webhook verification\n",
    "    print(request.args)\n",
    "    if request.args.get(\"hub.mode\") == \"subscribe\" and request.args.get(\"hub.challenge\"):\n",
    "        if not request.args.get(\"hub.verify_token\") == \"1234\":\n",
    "            return \"Verification token mismatch\", 403\n",
    "        return request.args[\"hub.challenge\"], 200\n",
    "    return \"不正確的地方，請出去\", 200\n",
    "@app.route('/verify', methods=['POST'])\n",
    "def webhook():\n",
    "    data=request.get_json()\n",
    "    log(data)\n",
    "    UID=data['entry'][0]['messaging'][0]['sender']['id']\n",
    "    TEXT=data['entry'][0]['messaging'][0]['message']['text']\n",
    "    #初始化數值\n",
    "    if UID not in user:\n",
    "        user[UID]=[rd.randint(1,100),1,100,\"Y\"]\n",
    "    elif user[UID][3]==\"N\":\n",
    "        user[UID]=[rd.randint(1,100),1,100,\"Y\"]\n",
    "    #開始判斷\n",
    "    guess=int(TEXT)\n",
    "    if user[UID][0]==guess:\n",
    "        bot.send_text_message(UID,\"恭喜猜對\")\n",
    "        user[UID][3]=\"N\"\n",
    "    elif user[UID][0]>guess:\n",
    "        user[UID][1]=guess\n",
    "        bot.send_text_message(UID,\"請輸入%d到%d的數字\"%(user[UID][1],user[UID][2]))\n",
    "    else:\n",
    "        user[UID][2]=guess\n",
    "        bot.send_text_message(UID,\"請輸入%d到%d的數字\"%(user[UID][1],user[UID][2]))\n",
    "    return \"ok\", 200\n",
    "def log(message):\n",
    "    print(message)\n",
    "    sys.stdout.flush()\n",
    "if __name__ == \"__main__\":\n",
    "    app.run(debug = 0, port = 1216)"
   ]
  },
  {
   "cell_type": "code",
   "execution_count": null,
   "id": "9d45c5a5",
   "metadata": {},
   "outputs": [],
   "source": []
  }
 ],
 "metadata": {
  "kernelspec": {
   "display_name": "Python 3 (ipykernel)",
   "language": "python",
   "name": "python3"
  },
  "language_info": {
   "codemirror_mode": {
    "name": "ipython",
    "version": 3
   },
   "file_extension": ".py",
   "mimetype": "text/x-python",
   "name": "python",
   "nbconvert_exporter": "python",
   "pygments_lexer": "ipython3",
   "version": "3.10.9"
  }
 },
 "nbformat": 4,
 "nbformat_minor": 5
}
