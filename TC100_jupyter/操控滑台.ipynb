{
 "cells": [
  {
   "cell_type": "code",
   "execution_count": null,
   "id": "935176a8",
   "metadata": {},
   "outputs": [],
   "source": [
    "def servoOn(port, baudrate, register_address, data):   \n",
    "    master.execute(3, cst.WRITE_MULTIPLE_REGISTERS, register_address, 1, data)\n",
    "    tcServo = master.execute(3, cst.READ_HOLDING_REGISTERS, register_address, 1)\n",
    "    return tcServo\n",
    "\n",
    "import serial\n",
    "import modbus_tk\n",
    "from modbus_tk import modbus_rtu\n",
    "import modbus_tk.defines as cst\n",
    "\n",
    "PORT = \"COM1\"\n",
    "try:\n",
    "    master = modbus_rtu.RtuMaster(serial.Serial(port=PORT, baudrate=9600, bytesize=8, parity=\"N\", stopbits=1))\n",
    "    master.set_timeout(3.0)\n",
    "    master.set_verbose(True)\n",
    "    while True:\n",
    "        userInput = input(\"請輸入1為伺服啟動, 2為伺服關閉, 3為原點賦歸, 4為再輸入移動位置, 5為離開程式: \")\n",
    "        if userInput == '1':        \n",
    "            servoOn(PORT, 9600, 0x2042, [1])\n",
    "            if tcServo == '1':\n",
    "                print(\"servo on\")\n",
    "            else:\n",
    "                print(\"servo未啟動\")\n",
    "        elif userInput == '2':\n",
    "            print(\"servo off\")\n",
    "        elif userInput == '3':\n",
    "            print(\"原點賦歸\")\n",
    "        elif userInput == '4':\n",
    "            loctionIn = float(input(\"請輸入位置: \"))\n",
    "            print(\"我要移動到\",loctionIn)\n",
    "        elif userInput == '5':\n",
    "            master.close()\n",
    "            print(\"EXIT\")\n",
    "            break\n",
    "        else:\n",
    "            print(\"請重新輸入,1為伺服啟動,2為伺服關閉,3為原點賦歸,4為再輸入移動位置,5為離開程式: \")\n",
    "except:\n",
    "    print(\"eRRoR\")"
   ]
  },
  {
   "cell_type": "code",
   "execution_count": null,
   "id": "d37a3bf2",
   "metadata": {},
   "outputs": [],
   "source": [
    "# 機械控制 參考TC100\n",
    "import serial\n",
    "import modbus_tk\n",
    "from modbus_tk import modbus_rtu\n",
    "import modbus_tk.defines as cst\n",
    "# pip3 install modbus_tk\n",
    "# pip3 install pyserial\n",
    "PORT = \"COM1\"\n",
    "\n",
    "try:\n",
    "    master = modbus_rtu.RtuMaster(serial.Serial(port=PORT,baudrate=9600,bytesize=8,parity=\"N\",stopbits=1))\n",
    "    master.set_timeout(3.0)\n",
    "    master.set_verbose(True)  #怕被干擾，是否重發\n",
    "                    # servo Num ,寫入ＯＲ讀取,開始(16進位),要跑幾個,清單數字\n",
    "    master.execute(3,cst.WRITE_MULTIPLE_REGISTERS,0x2042,1,[1])    #寫入\n",
    "    value = master.execute(3,cst.READ_HOLDING_REGISTERS,0x100C,1)      #讀取\n",
    "    print (value)\n",
    "    master.close()\n",
    "except:\n",
    "    print(\"error\")"
   ]
  },
  {
   "cell_type": "code",
   "execution_count": null,
   "id": "543cc963",
   "metadata": {},
   "outputs": [],
   "source": []
  }
 ],
 "metadata": {
  "kernelspec": {
   "display_name": "Python 3 (ipykernel)",
   "language": "python",
   "name": "python3"
  },
  "language_info": {
   "codemirror_mode": {
    "name": "ipython",
    "version": 3
   },
   "file_extension": ".py",
   "mimetype": "text/x-python",
   "name": "python",
   "nbconvert_exporter": "python",
   "pygments_lexer": "ipython3",
   "version": "3.10.9"
  }
 },
 "nbformat": 4,
 "nbformat_minor": 5
}
