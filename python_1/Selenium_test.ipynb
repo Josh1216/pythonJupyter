{
 "cells": [
  {
   "cell_type": "code",
   "execution_count": 24,
   "id": "42e654b2",
   "metadata": {},
   "outputs": [
    {
     "name": "stdout",
     "output_type": "stream",
     "text": [
      "Collecting wget\n",
      "  Downloading wget-3.2.zip (10 kB)\n",
      "  Preparing metadata (setup.py): started\n",
      "  Preparing metadata (setup.py): finished with status 'done'\n",
      "Building wheels for collected packages: wget\n",
      "  Building wheel for wget (setup.py): started\n",
      "  Building wheel for wget (setup.py): finished with status 'done'\n",
      "  Created wheel for wget: filename=wget-3.2-py3-none-any.whl size=9680 sha256=6e48217025138747274858053d4d49b696a8eb7d1a22b6e7b30e1779a1d97d89\n",
      "  Stored in directory: c:\\users\\joshwang\\appdata\\local\\pip\\cache\\wheels\\46\\78\\0e\\8e5e2b500f83a682c8d7e7ce820638cf99faa894a662f71cf0\n",
      "Successfully built wget\n",
      "Installing collected packages: wget\n",
      "Successfully installed wget-3.2\n"
     ]
    }
   ],
   "source": [
    "#!pip install selenium\n",
    "#!pip install wget\n",
    "# web.execute_script(\"window.scrollTo(0,document.documentElement.scrollHeight)\") #直接將網頁滑到底,加載不夠快要將滑的幅度降低\n",
    "# web.execute_script(\"window.scrollTo(0,document.documentElement.scrollHeight*0.9)\") #也可直接做加減乘除"
   ]
  },
  {
   "cell_type": "code",
   "execution_count": null,
   "id": "ec737fe1",
   "metadata": {},
   "outputs": [],
   "source": [
    "#點擊\n",
    "from selenium import webdriver\n",
    "from selenium.webdriver.common.by import By\n",
    "from selenium.webdriver.chrome.service import Service\n",
    "service = Service(executable_path = \"D:\\\\JOSHWANG\\\\.python.jupyter\\\\chromedriver.exe\")\n",
    "web = webdriver.Chrome(service=service)\n",
    "web.get(\"https://popcat.click/\")\n",
    "div = web.find_element(By.ID,\"app\")\n",
    "count = 0\n",
    "while count <1:\n",
    "    div.click()\n",
    "    count+=1\n",
    "\n",
    "# for i in range(999):\n",
    "#     div.click()"
   ]
  },
  {
   "cell_type": "code",
   "execution_count": null,
   "id": "2820f77c",
   "metadata": {},
   "outputs": [],
   "source": [
    "#自動登入FB並更改設定取消通知\n",
    "from selenium import webdriver\n",
    "from selenium.webdriver.common.by import By\n",
    "from selenium.webdriver.support.wait import WebDriverWait\n",
    "from selenium.webdriver.support import expected_conditions as EC\n",
    "from selenium.webdriver.common.keys import Keys\n",
    "from selenium.webdriver.chrome.options import Options\n",
    "from selenium.webdriver.chrome.service import Service\n",
    "#先更改chrome裡的設定\n",
    "option = webdriver.ChromeOptions()\n",
    "prefs = {\"profile.default_content_setting_values\":{\"notifications\":2}}\n",
    "option.add_experimental_option(\"prefs\",prefs)\n",
    "#再套用在原本開啟的設定並覆蓋\n",
    "service = Service(executable_path = \"D:\\\\JOSHWANG\\\\.python.jupyter\\\\chromedriver.exe\")\n",
    "web = webdriver.Chrome(service=service,options=option)\n",
    "web.get(\"https://www.facebook.com/\")\n",
    "\n",
    "userName = WebDriverWait(web,3).until(EC.element_to_be_clickable((By.CSS_SELECTOR,'input[name=\"email\"]')))\n",
    "userName.send_keys(\"帳號\")\n",
    "userPass = WebDriverWait(web,3).until(EC.element_to_be_clickable((By.CSS_SELECTOR,'input[name=\"pass\"]')))\n",
    "userPass.send_keys(\"密碼\")\n",
    "logInFb = WebDriverWait(web,3).until(EC.element_to_be_clickable((By.CSS_SELECTOR,'button[value=\"1\"]')))\n",
    "logInFb.send_keys(Keys.ENTER)\n"
   ]
  },
  {
   "cell_type": "code",
   "execution_count": null,
   "id": "1efde6ac",
   "metadata": {},
   "outputs": [],
   "source": [
    "#取得網站裡的cookie並轉換成BS格式\n",
    "import json\n",
    "cookie = web.get_cookies()\n",
    "# print(cookie)\n",
    "jsonCookie = json.dumps(cookie)\n",
    "with open(\"facebook.json\",\"w\") as f:  # w = write\n",
    "    f.write(jsonCookie)\n",
    "    f.close()"
   ]
  },
  {
   "cell_type": "code",
   "execution_count": null,
   "id": "edcdbdd3",
   "metadata": {},
   "outputs": [],
   "source": [
    "#綜合上面兩個程式碼\n",
    "from selenium import webdriver\n",
    "from selenium.webdriver.common.by import By\n",
    "from selenium.webdriver.support.wait import WebDriverWait\n",
    "from selenium.webdriver.support import expected_conditions as EC\n",
    "from selenium.webdriver.common.keys import Keys\n",
    "from selenium.webdriver.chrome.options import Options\n",
    "from selenium.webdriver.chrome.service import Service\n",
    "#先更改chrome裡的設定\n",
    "option = webdriver.ChromeOptions()\n",
    "prefs = {\"profile.default_content_setting_values\":{\"notifications\":2}}\n",
    "option.add_experimental_option(\"prefs\",prefs)\n",
    "#再套用在原本開啟的設定並覆蓋\n",
    "service = Service(executable_path = \"D:\\\\JOSHWANG\\\\.python.jupyter\\\\chromedriver.exe\")\n",
    "web = webdriver.Chrome(service=service,options=option)\n",
    "web.get(\"https://www.facebook.com/\")\n",
    "f1 = open(\"facebook.json\")\n",
    "cookies = json.loads(f1.read())\n",
    "for i in cookies:\n",
    "    web.add_cookie(i)\n",
    "f1.close()\n",
    "\n",
    "web.refresh()"
   ]
  },
  {
   "cell_type": "code",
   "execution_count": null,
   "id": "5e52f0aa",
   "metadata": {},
   "outputs": [],
   "source": [
    "#自動進入1111人力銀行並取得職缺相關資料,未完成\n",
    "import time\n",
    "from bs4 import BeautifulSoup\n",
    "from selenium import webdriver\n",
    "from selenium.webdriver.common.by import By\n",
    "from selenium.webdriver.support.wait import WebDriverWait\n",
    "from selenium.webdriver.support import expected_conditions as EC\n",
    "from selenium.webdriver.common.keys import Keys\n",
    "from selenium.webdriver.chrome.options import Options\n",
    "from selenium.webdriver.chrome.service import Service\n",
    "#先更改chrome裡的設定\n",
    "option = webdriver.ChromeOptions()\n",
    "prefs = {\"profile.default_content_setting_values\":{\"notifications\":2}}\n",
    "option.add_experimental_option(\"prefs\",prefs)\n",
    "#再套用在原本開啟的設定並覆蓋\n",
    "service = Service(executable_path = \"D:\\\\JOSHWANG\\\\.python.jupyter\\\\chromedriver.exe\")\n",
    "web = webdriver.Chrome(service=service,options=option)\n",
    "web.get(\"https://www.1111.com.tw/\")\n",
    "\n",
    "jobSearch = WebDriverWait(web,3).until(EC.element_to_be_clickable((By.CSS_SELECTOR,'input[class=\"UISearchbarInput ui-autocomplete-input\"]')))\n",
    "jobSearch.send_keys(\"大數據\")\n",
    "useSearch = WebDriverWait(web,3).until(EC.element_to_be_clickable((By.CSS_SELECTOR,'a[id=\"searchjobBtn\"]')))\n",
    "useSearch.click()\n",
    "\n",
    "for \n",
    "    web.execute_script(\"window.scrollTo(0,document.documentElement.scrollHeight*0.3)\")\n",
    "    time.sleep(0.1)\n",
    "    web.execute_script(\"window.scrollTo(0,document.documentElement.scrollHeight-2200)\")\n",
    "    time.sleep(0.5)\n",
    "soup = BeautifulSoup(web.page_source,\"html.parser\")\n",
    "for i in soup.find_all('div', class_=\"job_item_info\"):\n",
    "    print(i.find('h5',class_=\"card-title title_6\").text) #職稱\n",
    "    print(i.find('h6',class_=\"job_item_company mb-1 digit_5 body_3\").text)\n",
    "    print(i.find('a',class_=\"job_item_detail_location mr-3 position-relative\").text)\n",
    "    print(i.find('div',class_=\"job_item_detail_salary ml-3 font-weight-style digit_6\").text)\n",
    "    print(\"應徵人數: \"+i.find('span',class_=\"applicants_data\").text)\n",
    "    print(\"= = = = = = = = = = = = = = = = =\")"
   ]
  },
  {
   "cell_type": "code",
   "execution_count": 22,
   "id": "18f21a2d",
   "metadata": {
    "collapsed": true
   },
   "outputs": [
    {
     "name": "stdout",
     "output_type": "stream",
     "text": [
      "47 1\n",
      "['https://memeprod.ap-south-1.linodeobjects.com/user-template/25e796f1aad395c4b0683a0c5c46be13.png', 'https://memeprod.ap-south-1.linodeobjects.com/user-template/28b360acc6516be159bf3dcb4bed8eeb.png', 'https://megapx-assets.dcard.tw/images/abeb1e64-297d-4738-ace1-1ce2523a1a88/full.jpeg', 'https://i.imgur.com/vU0sUgG.jpg', 'https://i.ytimg.com/vi/PdQ_FH4ZER0/maxresdefault.jpg', 'https://encrypted-tbn0.gstatic.com/images?q=tbn:ANd9GcSe7j8L_2CkHiB9b04P-2ThzWCbrmHv7QOCeu25dUFYVGZJX5Fo0GZ78vlYX3OIqZqvH-Y&usqp=CAU', 'https://i.pinimg.com/originals/20/72/bd/2072bdba26ed510fe8f0e0a743251d6a.jpg', 'https://encrypted-tbn0.gstatic.com/images?q=tbn:ANd9GcThpoPsMD_e7cxw5SGHjcEIlgYkq55cf-Cv11UQizklpBTZZfDLvNcXSCcBGulYAjD7WJY&usqp=CAU', 'https://megapx-assets.dcard.tw/images/58670374-2199-44e8-88eb-12fb5ef6b80d/1280.jpeg', 'https://i.pinimg.com/originals/3d/61/4b/3d614bf16c38754a6fe8d7e3cb60a65d.jpg', 'https://memeprod.ap-south-1.linodeobjects.com/user-template/a5f028dcf619511ddc52168ea72d8da8.png', 'https://encrypted-tbn0.gstatic.com/images?q=tbn:ANd9GcQduy4D-J5syMucVNuAxuFuG4Z3m0yH-eddYahVI7e1tZgyBxxXZQlclkEThegyDWTxHqw&usqp=CAU', 'https://i.ytimg.com/vi/LA_azVUG6s4/maxresdefault.jpg', 'https://encrypted-tbn0.gstatic.com/images?q=tbn:ANd9GcRnjmAVdZbsiX00bPZrirj-LkjCia-GIrNjd2KgcCQK_84ioSuYtoghRmys0ODcnJlEPwA&usqp=CAU', 'https://encrypted-tbn0.gstatic.com/images?q=tbn:ANd9GcSRcA170S9U6dfuykpnaX_xRgfoiv3LTX7l2nFkZW2lAx0KigNjCHS5SJyy_xIf3s744U0&usqp=CAU', 'https://memeprod.ap-south-1.linodeobjects.com/user-template/76c527fb7f686307eb9cb0f2671336a1.png', 'https://encrypted-tbn0.gstatic.com/images?q=tbn:ANd9GcTR2SNAtUcaT6Lqgc5WpFRKZJmqgVbtClpmfxQjU2FPnEISEYnR55rqTPi0-Baexu3kd0E&usqp=CAU', 'https://encrypted-tbn0.gstatic.com/images?q=tbn:ANd9GcQiOWB8W6kUjvrO586c5E2hKXUc5VrXS0HYIWN5cIM_pSuDC9YEqjej1_begzV9FYuFgig&usqp=CAU', 'https://encrypted-tbn0.gstatic.com/images?q=tbn:ANd9GcTXzwMGuxLCw0yM3d_rfVDWgW-mIF8M-k4QoYvf9PkftaM2F70TkOEmNbeeZGLvIwUMpFg&usqp=CAU', 'https://www.upmedia.mg/upload/content/20190429/ed190429182617645824.jpg', 'https://media.nownews.com/nn_media/thumbnail/2019/11/1573791078-cf4dd80429a548e9e85c10f3fe603630-1012x1500.jpg', 'https://i.imgur.com/aikZq5N.jpg?e=1676839505&s=tJjqI-Rnhmp9-bCfWnz2oA', 'https://i.imgur.com/XbiLuJhh.jpg', 'https://encrypted-tbn0.gstatic.com/images?q=tbn:ANd9GcSsVSlgDYXjDgAfKm57J1WLSHbXlMrr9V_KH6bVLqbI6RYkasySdNXHKwNsEUa_PjCaADs&usqp=CAU', 'https://memeprod.ap-south-1.linodeobjects.com/user-template/45944c33979fa1fa5f9067a73365625f.png', 'https://megapx-assets.dcard.tw/images/ad41d4b6-31f4-4144-8c35-260a9d82ee54/full.jpeg', 'https://i.imgur.com/1ARakiM.jpg', 'https://encrypted-tbn0.gstatic.com/images?q=tbn:ANd9GcTTCt6J-Ouy_b85dJkzuPBbXHEdSh1DUCTQscrei1UElov0ut4-zpprhQfKl-eDJyCq0os&usqp=CAU', 'https://encrypted-tbn0.gstatic.com/images?q=tbn:ANd9GcRH4Q92KHvy5pnlC2Xhqz3rytFjlXg_3MzacYLq3cw0sNjZbq8gh1-HYHJo_Us5p92iQ0s&usqp=CAU', 'https://www.upmedia.mg/upload/content/20190429/ge190429185031734468.jpg', 'https://www.niusnews.com/upload/imgs/default/2022_06ARENA06/spoon/4.jpg', 'https://i.ytimg.com/vi/9Dx_mklujaI/maxresdefault.jpg', 'https://encrypted-tbn0.gstatic.com/images?q=tbn:ANd9GcToJQFTMsLVXFiVDmwjjYCNDNmGyQ0X3ZdClF43bho0xVZS93WMqifmZ55H1j6T5ql2OPM&usqp=CAU', 'https://imgur.com/MaR1T4V.jpg.jpg', 'https://i.imgur.com/7dmW9G7.jpg', 'https://memeprod.ap-south-1.linodeobjects.com/user-template/d0a2d92a00dd20e838cce7966815d3f2.png', 'https://megapx-assets.dcard.tw/images/311cdc95-8d28-4e2d-b230-a0baac1f7fc2/1280.jpeg', 'https://encrypted-tbn0.gstatic.com/images?q=tbn:ANd9GcRg2q5lZqSawai9WlQ0c0piksKFK84yYJt-W2BSHJ7VusriYHseq6kL7mchKsmiTXcsczA&usqp=CAU', 'https://encrypted-tbn0.gstatic.com/images?q=tbn:ANd9GcRUtUmKSPdNO6KeNi4p8Djc500O2K8jV6rT9YpCTvNaEb4Vqhj5CTP4ZrnekYDHABFfxfo&usqp=CAU', 'https://i.ytimg.com/vi/T5Toe5kphXM/maxresdefault.jpg', 'https://cdn2.ettoday.net/images/6508/6508058.jpg', 'https://img.ws.mms.shopee.tw/62cb74f3ff2ee12fe812031b51b141ed', 'https://img.myvideo.net.tw/images/POR010/0000/1673/201910301353279720_2016.jpg', 'https://i.imgur.com/iMidKul.jpg', 'https://encrypted-tbn0.gstatic.com/images?q=tbn:ANd9GcQERgif8qrTT2A7sUEVzlK72pmpexbaNeTrMbgOkxFhb52HKXEODnkRe6RAtmPaPcp0MGc&usqp=CAU', 'https://i.imgur.com/gMxiZHr.jpg', 'https://i.pinimg.com/1200x/48/c1/70/48c17071b0ed4ca98eb73187da51bd8f.jpg']\n"
     ]
    }
   ],
   "source": [
    "import time\n",
    "from bs4 import BeautifulSoup\n",
    "from selenium import webdriver\n",
    "from selenium.webdriver.common.by import By\n",
    "from selenium.webdriver.support.wait import WebDriverWait\n",
    "from selenium.webdriver.support import expected_conditions as EC\n",
    "from selenium.webdriver.common.keys import Keys\n",
    "from selenium.webdriver.chrome.options import Options\n",
    "from selenium.webdriver.chrome.service import Service\n",
    "\n",
    "#先更改chrome裡的設定\n",
    "option = webdriver.ChromeOptions()\n",
    "prefs = {\"profile.default_content_setting_values\":{\"notifications\":2}}\n",
    "option.add_experimental_option(\"prefs\",prefs)\n",
    "#再套用在原本開啟的設定並覆蓋\n",
    "service = Service(executable_path = \"D:\\\\JOSHWANG\\\\.python.jupyter\\\\chromedriver.exe\")\n",
    "web = webdriver.Chrome(service=service,options=option)\n",
    "web.get(\"https://www.google.com.tw/\")\n",
    "\n",
    "choosePic = WebDriverWait(web,3).until(EC.element_to_be_clickable((By.CSS_SELECTOR,'a[aria-label=\"搜尋圖片 (開啟新分頁)\"]')))\n",
    "choosePic.click()\n",
    "inPutText = WebDriverWait(web,3).until(EC.element_to_be_clickable((By.CSS_SELECTOR,'textarea[id=\"APjFqb\"]')))\n",
    "inPutText.send_keys(\"海綿寶寶梗圖\")\n",
    "searchBut = WebDriverWait(web,3).until(EC.element_to_be_clickable((By.CSS_SELECTOR,'button[aria-label=\"Google 搜尋\"]')))\n",
    "searchBut.click()\n",
    "web.find_element(By.XPATH,('//*[text()=\"工具\"]')).click() #直接在程式碼找要找的文字\n",
    "web.find_element(By.XPATH,('//*[text()=\"大小\"]')).click()\n",
    "web.find_element(By.XPATH,('//*[text()=\"大\"]')).click()\n",
    "\n",
    "anchorList=[]\n",
    "imgUrlList=[]\n",
    "anchor = web.find_elements(By.CLASS_NAME,(\"wXeWr\"))\n",
    "for img in anchor:\n",
    "    try:\n",
    "        img.click()\n",
    "        pLus = img.get_attribute(\"href\")\n",
    "        anchorList.append(pLus)\n",
    "    except:\n",
    "        pass\n",
    "countS=0\n",
    "countB=0\n",
    "for uRl in anchorList:\n",
    "    try:\n",
    "        web.get(uRl)\n",
    "        iMgUrl = web.find_element(By.XPATH,('//*[@id=\"imp\"]/div[1]/div[1]/div[2]/div[2]/div[2]/c-wiz/div/div/div/div[2]/div/a/img')).get_attribute(\"src\")\n",
    "        imgUrlList.append(iMgUrl)\n",
    "        countS+=1\n",
    "    except:\n",
    "        countB+=1\n",
    "        pass\n",
    "print(countS,countB)\n",
    "print(imgUrlList)"
   ]
  },
  {
   "cell_type": "code",
   "execution_count": 28,
   "id": "46470eaf",
   "metadata": {},
   "outputs": [
    {
     "name": "stdout",
     "output_type": "stream",
     "text": [
      "D:\\JOSHWANG\\.python.jupyter\\海綿寶寶梗圖\n"
     ]
    }
   ],
   "source": [
    "import os #在路徑裡新增一個資料夾\n",
    "path = os.getcwd()\n",
    "path = os.path.join(path,\"海綿寶寶梗圖\")\n",
    "os.mkdir(path)\n",
    "print(path)"
   ]
  },
  {
   "cell_type": "code",
   "execution_count": 29,
   "id": "703478da",
   "metadata": {
    "collapsed": true
   },
   "outputs": [
    {
     "name": "stdout",
     "output_type": "stream",
     "text": [
      "https://memeprod.ap-south-1.linodeobjects.com/user-template/25e796f1aad395c4b0683a0c5c46be13.png\n",
      "https://memeprod.ap-south-1.linodeobjects.com/user-template/28b360acc6516be159bf3dcb4bed8eeb.png\n",
      "https://megapx-assets.dcard.tw/images/abeb1e64-297d-4738-ace1-1ce2523a1a88/full.jpeg\n",
      "https://megapx-assets.dcard.tw/images/58670374-2199-44e8-88eb-12fb5ef6b80d/1280.jpeg\n",
      "https://memeprod.ap-south-1.linodeobjects.com/user-template/a5f028dcf619511ddc52168ea72d8da8.png\n",
      "https://memeprod.ap-south-1.linodeobjects.com/user-template/76c527fb7f686307eb9cb0f2671336a1.png\n",
      "https://media.nownews.com/nn_media/thumbnail/2019/11/1573791078-cf4dd80429a548e9e85c10f3fe603630-1012x1500.jpg\n",
      "https://memeprod.ap-south-1.linodeobjects.com/user-template/45944c33979fa1fa5f9067a73365625f.png\n",
      "https://megapx-assets.dcard.tw/images/ad41d4b6-31f4-4144-8c35-260a9d82ee54/full.jpeg\n",
      "https://www.niusnews.com/upload/imgs/default/2022_06ARENA06/spoon/4.jpg\n",
      "https://memeprod.ap-south-1.linodeobjects.com/user-template/d0a2d92a00dd20e838cce7966815d3f2.png\n",
      "https://megapx-assets.dcard.tw/images/311cdc95-8d28-4e2d-b230-a0baac1f7fc2/1280.jpeg\n"
     ]
    }
   ],
   "source": [
    "import wget\n",
    "n=0\n",
    "for img in imgUrlList:    \n",
    "    try:\n",
    "        file = os.path.join(path,\"海綿寶寶梗圖\"+str(n)+\".jpg\")\n",
    "        wget.download(img,file)\n",
    "        n+=1        \n",
    "    except:\n",
    "        print(img)"
   ]
  },
  {
   "cell_type": "code",
   "execution_count": 61,
   "id": "55e6b115",
   "metadata": {},
   "outputs": [
    {
     "name": "stdout",
     "output_type": "stream",
     "text": [
      "38\n"
     ]
    }
   ],
   "source": [
    "import requests #擷取蝦皮限時特賣商品相關資料\n",
    "import json\n",
    "\n",
    "payLoad = json.loads('{\"promotionid\":156847579533319,\"categoryid\":0,\"itemids\":[14516237975,21780287588,1644015462,15728640982,22934738405,16194154256,4246870099,18937619016,4547906850,16693503159,18240185263,18217073592,13427099494,8946372853,1541137942,226450219],\"limit\":16,\"with_dp_items\":true}')\n",
    "res = requests.post(\"https://shopee.tw/api/v4/flash_sale/flash_sale_batch_get_items\",json=payLoad)\n",
    "\n",
    "jd = json.loads(res.text)\n",
    "# print(jd)\n",
    "iTemName = jd['data']['items'][0]['name'] #商品名字\n",
    "\n",
    "iTemPrice = jd['data']['items'][0]['price_before_discount'] #商品原價\n",
    "iTemPrice = int(iTemPrice)/100000\n",
    "\n",
    "iTemCut = jd['data']['items'][0]['discount'] #折扣%數\n",
    "iTemCut = round(1-(int(iTemCut[:-1])/100),2)\n",
    "\n",
    "iTemCuted = round(iTemPrice*iTemCut) #未完成\n",
    "print(iTemCuted)\n",
    "\n",
    "\n",
    "\n",
    "\n",
    "\n",
    "\n",
    "\n",
    "\n",
    "# print(iTemName)\n",
    "# print(iTemPrice)\n",
    "# print(iTemCut)\n"
   ]
  },
  {
   "cell_type": "code",
   "execution_count": 62,
   "id": "2b2fa71a",
   "metadata": {},
   "outputs": [
    {
     "name": "stdout",
     "output_type": "stream",
     "text": [
      "{'itemid': 14516237975, 'shopid': 6080099, 'modelids': [122902217850, 114392776641, 183396611680, 183396611682, 183396611679, 114392776633, 114392776646, 114392776651, 114392776644, 114392776634, 114392776629, 114392776654, 183396611681, 114392776632, 114392776635, 114392776628, 122902217849, 183396611683, 122902217848, 114392776640, 122902217854, 122902217853, 114392776645, 114392776630, 122902217851, 114392776653, 114392776627, 114392776650, 114392776631, 122902217856, 114392776626, 114392776652, 114392776639, 122902217855, 122902217859], 'promotionid': 156847579533319, 'brand_sale_brand_custom_logo': None, 'image': '1337bcda70b14a6e795ecaeb935b3960', 'raw_discount': 84, 'price_before_discount': 23900000, 'flash_sale_type': 0, 'promo_overlay_image': 'tw-50009109-c118b2bfde73d7d54deacf88c77844b7', 'promo_images': ['37cb6f766bc8a7bdc05a7506ed355726'], 'price': None, 'start_time': 1691755200, 'end_time': 1691769600, 'discount': '84%', 'flash_catid': 12, 'reference_item_id': '', 'is_shop_official': False, 'flash_sale_stock': None, 'name': '一體式保護殼 玻璃保護貼 手錶殼 適用 Apple Watch 保護殼 8 7 SE 6 5 4 45 44 41 40', 'item_type': 0, 'is_shop_preferred': True, 'promo_name': '一體式手錶殼', 'stock': 367, 'hidden_price_display': '??', 'voucher': {'min_spend': 39900000, 'discount_percentage': 0, 'coin_percentage': None, 'discount_value': 2000000, 'voucher_code': 'EASO20WN', 'reward_type': 0, 'promotionid': 644493423656960}, 'cat_label': 0, 'extra_discount_info': None, 'reminder_count': 3, 'is_mart': False, 'cats': [100013, 100075, 100288], 'is_shopee_food': None, 'shopee_food_log_id': None, 'shopee_food_trace': None, 'shopee_food_discount_id': None, 'item_rating': {'rating_star': 4.928649, 'rating_counts': [2775, 5, 4, 28, 110, 2628]}, 'shopee_food_discount_id_str': None, 'historical_sold': None, 'promo_overlay_image_desc': ''}\n"
     ]
    }
   ],
   "source": [
    "iTem = jd['data']['items'][0]\n",
    "print(iTem)"
   ]
  },
  {
   "cell_type": "code",
   "execution_count": null,
   "id": "d30a55c2",
   "metadata": {},
   "outputs": [],
   "source": []
  }
 ],
 "metadata": {
  "kernelspec": {
   "display_name": "Python 3 (ipykernel)",
   "language": "python",
   "name": "python3"
  },
  "language_info": {
   "codemirror_mode": {
    "name": "ipython",
    "version": 3
   },
   "file_extension": ".py",
   "mimetype": "text/x-python",
   "name": "python",
   "nbconvert_exporter": "python",
   "pygments_lexer": "ipython3",
   "version": "3.10.9"
  }
 },
 "nbformat": 4,
 "nbformat_minor": 5
}
