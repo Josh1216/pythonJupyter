{
 "cells": [
  {
   "cell_type": "code",
   "execution_count": 6,
   "id": "9f33f5cc",
   "metadata": {},
   "outputs": [
    {
     "name": "stdout",
     "output_type": "stream",
     "text": [
      "Uploaded with PyImgur\n",
      "https://i.imgur.com/L93AMaM.jpg\n",
      "image/jpeg\n"
     ]
    }
   ],
   "source": [
    "import pyimgur\n",
    "\n",
    "CLIENT_ID=\"c8f8920935bd4fa\"\n",
    "title=\"Uploaded with PyImgur\"\n",
    "im= pyimgur.Imgur(CLIENT_ID)\n",
    "uploaded_image=im.upload_image(\"D:\\JOSHWANG\\各種圖片\\雜項\\sponge.jpg\",title=title)\n",
    "print(uploaded_image.title)\n",
    "print(uploaded_image.link)\n",
    "print(uploaded_image.type)"
   ]
  },
  {
   "cell_type": "code",
   "execution_count": 3,
   "id": "3e6af65e",
   "metadata": {},
   "outputs": [
    {
     "name": "stdout",
     "output_type": "stream",
     "text": [
      "Requirement already satisfied: pyimgur in d:\\anaconda\\lib\\site-packages (0.6.0)\n",
      "Requirement already satisfied: requests in d:\\anaconda\\lib\\site-packages (from pyimgur) (2.31.0)\n",
      "Requirement already satisfied: charset-normalizer<4,>=2 in d:\\anaconda\\lib\\site-packages (from requests->pyimgur) (2.0.4)\n",
      "Requirement already satisfied: certifi>=2017.4.17 in d:\\anaconda\\lib\\site-packages (from requests->pyimgur) (2022.12.7)\n",
      "Requirement already satisfied: urllib3<3,>=1.21.1 in d:\\anaconda\\lib\\site-packages (from requests->pyimgur) (1.26.14)\n",
      "Requirement already satisfied: idna<4,>=2.5 in d:\\anaconda\\lib\\site-packages (from requests->pyimgur) (3.4)\n",
      "Note: you may need to restart the kernel to use updated packages.\n"
     ]
    }
   ],
   "source": [
    "pip install pyimgur"
   ]
  }
 ],
 "metadata": {
  "kernelspec": {
   "display_name": "Python 3 (ipykernel)",
   "language": "python",
   "name": "python3"
  },
  "language_info": {
   "codemirror_mode": {
    "name": "ipython",
    "version": 3
   },
   "file_extension": ".py",
   "mimetype": "text/x-python",
   "name": "python",
   "nbconvert_exporter": "python",
   "pygments_lexer": "ipython3",
   "version": "3.10.9"
  }
 },
 "nbformat": 4,
 "nbformat_minor": 5
}
