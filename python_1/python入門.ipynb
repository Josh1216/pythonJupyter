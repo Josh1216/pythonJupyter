{
 "cells": [
  {
   "cell_type": "code",
   "execution_count": 70,
   "id": "18ca5069",
   "metadata": {},
   "outputs": [
    {
     "name": "stdout",
     "output_type": "stream",
     "text": [
      "1\n"
     ]
    }
   ],
   "source": [
    "print(1)"
   ]
  },
  {
   "cell_type": "code",
   "execution_count": 71,
   "id": "c7f13d6f",
   "metadata": {},
   "outputs": [
    {
     "name": "stdout",
     "output_type": "stream",
     "text": [
      "-87\n"
     ]
    }
   ],
   "source": [
    "print(-87)"
   ]
  },
  {
   "cell_type": "code",
   "execution_count": 72,
   "id": "b9a1d7a7",
   "metadata": {},
   "outputs": [
    {
     "name": "stdout",
     "output_type": "stream",
     "text": [
      "1216\n"
     ]
    }
   ],
   "source": [
    "print(1216)"
   ]
  },
  {
   "cell_type": "code",
   "execution_count": 73,
   "id": "2258bd3a",
   "metadata": {},
   "outputs": [
    {
     "name": "stdout",
     "output_type": "stream",
     "text": [
      "1\n",
      "2\n"
     ]
    }
   ],
   "source": [
    "print(1)\n",
    "print(2)"
   ]
  },
  {
   "cell_type": "code",
   "execution_count": 74,
   "id": "f7d0aed5",
   "metadata": {},
   "outputs": [
    {
     "name": "stdout",
     "output_type": "stream",
     "text": [
      "3\n",
      "4\n",
      "5\n"
     ]
    }
   ],
   "source": [
    "print(3)\n",
    "print(4)#hello\n",
    "#print(6)\n",
    "\n",
    "\n",
    "\n",
    "\n",
    "print(5)"
   ]
  },
  {
   "cell_type": "code",
   "execution_count": 75,
   "id": "99e02ffc",
   "metadata": {},
   "outputs": [
    {
     "name": "stdout",
     "output_type": "stream",
     "text": [
      "1 2 3 4 5 6 7 8 9 0\n"
     ]
    }
   ],
   "source": [
    "print(1,2,3,4,5,6,7,8,9,0)"
   ]
  },
  {
   "cell_type": "code",
   "execution_count": 76,
   "id": "301e7245",
   "metadata": {},
   "outputs": [
    {
     "name": "stdout",
     "output_type": "stream",
     "text": [
      "-1234567890 1234567890\n"
     ]
    }
   ],
   "source": [
    "print(-1234567890,1234567890)"
   ]
  },
  {
   "cell_type": "code",
   "execution_count": 77,
   "id": "f1b17546",
   "metadata": {},
   "outputs": [
    {
     "name": "stdout",
     "output_type": "stream",
     "text": [
      "2023\n",
      "7\n",
      "4\n",
      "2\n",
      "20\n"
     ]
    }
   ],
   "source": [
    "#王廣捷\n",
    "print(2023)#今年2023\n",
    "print(7)#現在七月\n",
    "print(4)#今天4號\n",
    "print(2)#今天星期二\n",
    "print(20)#我20歲"
   ]
  },
  {
   "cell_type": "code",
   "execution_count": 78,
   "id": "2a510ea6",
   "metadata": {},
   "outputs": [
    {
     "name": "stdout",
     "output_type": "stream",
     "text": [
      "214242424242434\n",
      "91\n",
      "45\n",
      "100.00000026205883\n"
     ]
    }
   ],
   "source": [
    "print(2121212121222 + 212121212121212)\n",
    "print(2323232323232323-2323232323232232)\n",
    "print(15*3)\n",
    "print(343434344343434343/3434343434434343)"
   ]
  },
  {
   "cell_type": "code",
   "execution_count": 79,
   "id": "8971c117",
   "metadata": {},
   "outputs": [
    {
     "name": "stdout",
     "output_type": "stream",
     "text": [
      "14\n",
      "25\n",
      "1100.0\n"
     ]
    }
   ],
   "source": [
    "print(2+3*4)\n",
    "print((2+3)*5)\n",
    "print(1000+1000*10/100)"
   ]
  },
  {
   "cell_type": "code",
   "execution_count": 80,
   "id": "914beedb",
   "metadata": {},
   "outputs": [
    {
     "name": "stdout",
     "output_type": "stream",
     "text": [
      "-152.0\n"
     ]
    }
   ],
   "source": [
    "print(12+(6-34)*5-4*(3+24/8))"
   ]
  },
  {
   "cell_type": "code",
   "execution_count": 81,
   "id": "818d892c",
   "metadata": {},
   "outputs": [
    {
     "name": "stdout",
     "output_type": "stream",
     "text": [
      "1216\n"
     ]
    }
   ],
   "source": [
    "a=1216\n",
    "print(a)"
   ]
  },
  {
   "cell_type": "code",
   "execution_count": 82,
   "id": "ad9d8cb6",
   "metadata": {},
   "outputs": [
    {
     "name": "stdout",
     "output_type": "stream",
     "text": [
      "100\n"
     ]
    }
   ],
   "source": [
    "x=100\n",
    "print(x)"
   ]
  },
  {
   "cell_type": "code",
   "execution_count": 83,
   "id": "94eedb04",
   "metadata": {},
   "outputs": [
    {
     "name": "stdout",
     "output_type": "stream",
     "text": [
      "-5\n"
     ]
    }
   ],
   "source": [
    "y=-5\n",
    "print(y)"
   ]
  },
  {
   "cell_type": "code",
   "execution_count": 84,
   "id": "9c5decf7",
   "metadata": {},
   "outputs": [
    {
     "name": "stdout",
     "output_type": "stream",
     "text": [
      "100\n"
     ]
    }
   ],
   "source": [
    "print(x)"
   ]
  },
  {
   "cell_type": "code",
   "execution_count": 85,
   "id": "e87e3424",
   "metadata": {},
   "outputs": [
    {
     "name": "stdout",
     "output_type": "stream",
     "text": [
      "1\n",
      "2\n"
     ]
    }
   ],
   "source": [
    "a=1\n",
    "print(a)\n",
    "a=2\n",
    "print(a)"
   ]
  },
  {
   "cell_type": "code",
   "execution_count": 86,
   "id": "f05de037",
   "metadata": {},
   "outputs": [
    {
     "name": "stdout",
     "output_type": "stream",
     "text": [
      "1 1\n",
      "2 1\n"
     ]
    }
   ],
   "source": [
    "a=1\n",
    "b=a\n",
    "print(a,b)\n",
    "a=2\n",
    "print(a,b)"
   ]
  },
  {
   "cell_type": "code",
   "execution_count": 87,
   "id": "7fc1efca",
   "metadata": {},
   "outputs": [
    {
     "name": "stdout",
     "output_type": "stream",
     "text": [
      "3\n"
     ]
    }
   ],
   "source": [
    "a=1+2\n",
    "print(a)"
   ]
  },
  {
   "cell_type": "code",
   "execution_count": 88,
   "id": "0ea6de0c",
   "metadata": {},
   "outputs": [
    {
     "name": "stdout",
     "output_type": "stream",
     "text": [
      "3\n"
     ]
    }
   ],
   "source": [
    "a=1\n",
    "b=a+2\n",
    "print(b)"
   ]
  },
  {
   "cell_type": "code",
   "execution_count": 89,
   "id": "9131d191",
   "metadata": {},
   "outputs": [
    {
     "name": "stdout",
     "output_type": "stream",
     "text": [
      "3\n"
     ]
    }
   ],
   "source": [
    "a=1\n",
    "b=a+a+a*a\n",
    "print(b)"
   ]
  },
  {
   "cell_type": "code",
   "execution_count": 90,
   "id": "14691b04",
   "metadata": {},
   "outputs": [
    {
     "name": "stdout",
     "output_type": "stream",
     "text": [
      "34\n"
     ]
    }
   ],
   "source": [
    "a=2\n",
    "b=a*a*a*a*a+a\n",
    "print(b)"
   ]
  },
  {
   "cell_type": "code",
   "execution_count": 91,
   "id": "b3f4fbfc",
   "metadata": {},
   "outputs": [
    {
     "name": "stdout",
     "output_type": "stream",
     "text": [
      "185\n"
     ]
    }
   ],
   "source": [
    "a=15\n",
    "b=35\n",
    "c=4*b+3*a\n",
    "print(c)"
   ]
  },
  {
   "cell_type": "code",
   "execution_count": 92,
   "id": "830807a6",
   "metadata": {},
   "outputs": [
    {
     "name": "stdout",
     "output_type": "stream",
     "text": [
      "1150.0\n"
     ]
    }
   ],
   "source": [
    "a=1000\n",
    "b=1000*10/100\n",
    "c=1000*5/100\n",
    "print(a+b+c)"
   ]
  },
  {
   "cell_type": "code",
   "execution_count": 93,
   "id": "ae06af66",
   "metadata": {},
   "outputs": [
    {
     "name": "stdout",
     "output_type": "stream",
     "text": [
      "\n",
      "Here is a list of the Python keywords.  Enter any keyword to get more help.\n",
      "\n",
      "False               class               from                or\n",
      "None                continue            global              pass\n",
      "True                def                 if                  raise\n",
      "and                 del                 import              return\n",
      "as                  elif                in                  try\n",
      "assert              else                is                  while\n",
      "async               except              lambda              with\n",
      "await               finally             nonlocal            yield\n",
      "break               for                 not                 \n",
      "\n"
     ]
    }
   ],
   "source": [
    "help(\"keywords\")"
   ]
  },
  {
   "cell_type": "code",
   "execution_count": 94,
   "id": "25f1105b",
   "metadata": {},
   "outputs": [
    {
     "ename": "SyntaxError",
     "evalue": "cannot assign to True (298725999.py, line 1)",
     "output_type": "error",
     "traceback": [
      "\u001b[1;36m  Cell \u001b[1;32mIn[94], line 1\u001b[1;36m\u001b[0m\n\u001b[1;33m    True =1\u001b[0m\n\u001b[1;37m    ^\u001b[0m\n\u001b[1;31mSyntaxError\u001b[0m\u001b[1;31m:\u001b[0m cannot assign to True\n"
     ]
    }
   ],
   "source": [
    "True =1"
   ]
  },
  {
   "cell_type": "code",
   "execution_count": null,
   "id": "01904011",
   "metadata": {},
   "outputs": [],
   "source": [
    "a=35\n",
    "b=50\n",
    "c=55\n",
    "d=2\n",
    "e=a*2+b*3+c+d-25\n",
    "print(1000-e)\n",
    "f=e*5/100\n",
    "print(f)\n"
   ]
  },
  {
   "cell_type": "code",
   "execution_count": null,
   "id": "a8e21962",
   "metadata": {},
   "outputs": [],
   "source": [
    "SAMSUNG = 1\n",
    "iPhone = 2\n",
    "3pigs = 3 #數字不能在第一個\n",
    "\n",
    "if = 4 #這是關鍵字\n",
    "\n",
    "ifgo = 5\n",
    "only = 6\n",
    "_hippo = 7\n",
    "_rabbit_ = 8\n"
   ]
  },
  {
   "cell_type": "code",
   "execution_count": null,
   "id": "dafb3de7",
   "metadata": {},
   "outputs": [],
   "source": [
    "a=type(123)\n",
    "print(a)"
   ]
  },
  {
   "cell_type": "code",
   "execution_count": null,
   "id": "d91beabd",
   "metadata": {},
   "outputs": [],
   "source": [
    "a=type(123.)\n",
    "print(a)"
   ]
  },
  {
   "cell_type": "code",
   "execution_count": null,
   "id": "ad840daa",
   "metadata": {},
   "outputs": [],
   "source": [
    "print(1+1)\n",
    "print(1.+1)\n",
    "print(1.+1.)"
   ]
  },
  {
   "cell_type": "code",
   "execution_count": null,
   "id": "bb9d7f52",
   "metadata": {},
   "outputs": [],
   "source": [
    "print(1/1)"
   ]
  },
  {
   "cell_type": "code",
   "execution_count": null,
   "id": "45bbb5bf",
   "metadata": {},
   "outputs": [],
   "source": [
    "a=123\n",
    "print(a)\n",
    "a=float(a)\n",
    "print(a)"
   ]
  },
  {
   "cell_type": "code",
   "execution_count": 111,
   "id": "59baa0bb",
   "metadata": {},
   "outputs": [
    {
     "ename": "TypeError",
     "evalue": "'str' object is not callable",
     "output_type": "error",
     "traceback": [
      "\u001b[1;31m---------------------------------------------------------------------------\u001b[0m",
      "\u001b[1;31mTypeError\u001b[0m                                 Traceback (most recent call last)",
      "Cell \u001b[1;32mIn[111], line 2\u001b[0m\n\u001b[0;32m      1\u001b[0m a\u001b[38;5;241m=\u001b[39m\u001b[38;5;241m123.4\u001b[39m\n\u001b[1;32m----> 2\u001b[0m \u001b[38;5;28;43mprint\u001b[39;49m\u001b[43m(\u001b[49m\u001b[43ma\u001b[49m\u001b[43m)\u001b[49m\n\u001b[0;32m      3\u001b[0m a\u001b[38;5;241m=\u001b[39m\u001b[38;5;28mint\u001b[39m(a)\n\u001b[0;32m      4\u001b[0m \u001b[38;5;28mprint\u001b[39m(a)\n",
      "\u001b[1;31mTypeError\u001b[0m: 'str' object is not callable"
     ]
    }
   ],
   "source": [
    "a=123.4\n",
    "print(a)\n",
    "a=int(a)\n",
    "print(a)"
   ]
  },
  {
   "cell_type": "code",
   "execution_count": null,
   "id": "68ea4785",
   "metadata": {},
   "outputs": [],
   "source": [
    "print(\"age\")"
   ]
  },
  {
   "cell_type": "code",
   "execution_count": 1,
   "id": "7c2a4be8",
   "metadata": {},
   "outputs": [
    {
     "name": "stdout",
     "output_type": "stream",
     "text": [
      "age\n"
     ]
    }
   ],
   "source": [
    "a=\"age\"\n",
    "print(a)"
   ]
  },
  {
   "cell_type": "code",
   "execution_count": 2,
   "id": "8f77d651",
   "metadata": {},
   "outputs": [
    {
     "name": "stdout",
     "output_type": "stream",
     "text": [
      "Josh\n",
      "<class 'str'>\n"
     ]
    }
   ],
   "source": [
    "name=\"Josh\"\n",
    "print(name)\n",
    "print(type(name))"
   ]
  },
  {
   "cell_type": "code",
   "execution_count": 4,
   "id": "74d9ad83",
   "metadata": {},
   "outputs": [
    {
     "name": "stdout",
     "output_type": "stream",
     "text": [
      "A\n",
      "B\n",
      "C\n",
      "D\n",
      "E\n"
     ]
    }
   ],
   "source": [
    "text=\"ABCDE\"\n",
    "print(text[0])\n",
    "\n",
    "print(text[1])\n",
    "\n",
    "print(text[2])\n",
    "\n",
    "print(text[3])\n",
    "\n",
    "print(text[4])\n"
   ]
  },
  {
   "cell_type": "code",
   "execution_count": 5,
   "id": "2636119e",
   "metadata": {},
   "outputs": [
    {
     "name": "stdout",
     "output_type": "stream",
     "text": [
      "E\n"
     ]
    }
   ],
   "source": [
    "i=5\n",
    "text=\"ABCDEFGHIJKLMNOPQRSTUVWXYZ\"\n",
    "print(text[i-1])"
   ]
  },
  {
   "cell_type": "code",
   "execution_count": 6,
   "id": "3e017d9e",
   "metadata": {},
   "outputs": [
    {
     "name": "stdout",
     "output_type": "stream",
     "text": [
      "龍\n"
     ]
    }
   ],
   "source": [
    "i=5\n",
    "text=\"鼠牛虎兔龍蛇馬羊猴雞狗豬\"\n",
    "print(text[i-1])"
   ]
  },
  {
   "cell_type": "code",
   "execution_count": 7,
   "id": "d75162c2",
   "metadata": {},
   "outputs": [
    {
     "name": "stdout",
     "output_type": "stream",
     "text": [
      "E\n"
     ]
    }
   ],
   "source": [
    "text=\"ABCDE\"\n",
    "print(text[-1])"
   ]
  },
  {
   "cell_type": "code",
   "execution_count": 9,
   "id": "aa8dd701",
   "metadata": {},
   "outputs": [
    {
     "name": "stdout",
     "output_type": "stream",
     "text": [
      "<class 'str'>\n",
      "ERT\n",
      "ERTYUIOP\n",
      "QWERTY\n"
     ]
    }
   ],
   "source": [
    "text=\"QWERTYUIOP\"\n",
    "short_text=text[2:5] #從2開始不要5\n",
    "print(type(short_text))\n",
    "print(short_text)\n",
    "b=text[2:]\n",
    "c=text[:6]\n",
    "print(b)\n",
    "print(c)"
   ]
  },
  {
   "cell_type": "code",
   "execution_count": 10,
   "id": "fec7940f",
   "metadata": {},
   "outputs": [
    {
     "name": "stdout",
     "output_type": "stream",
     "text": [
      "請你說人話\n",
      "請你說人話\n",
      "<class 'str'>\n"
     ]
    }
   ],
   "source": [
    "a=input()\n",
    "print(a)\n",
    "print(type(a))"
   ]
  },
  {
   "cell_type": "code",
   "execution_count": 15,
   "id": "1c61f386",
   "metadata": {},
   "outputs": [
    {
     "name": "stdout",
     "output_type": "stream",
     "text": [
      "Hi,what is your name?\n",
      "Josh\n",
      "Hello,Josh,Nice to meet you!\n"
     ]
    }
   ],
   "source": [
    "print(\"Hi,what is your name?\")\n",
    "name=input()\n",
    "print(\"Hello,\"+name+\",Nice to meet you!\")"
   ]
  },
  {
   "cell_type": "code",
   "execution_count": 16,
   "id": "0f7f9900",
   "metadata": {},
   "outputs": [
    {
     "name": "stdout",
     "output_type": "stream",
     "text": [
      "HELLOHI\n",
      "<class 'str'>\n"
     ]
    }
   ],
   "source": [
    "text=\"HELLO\"+\"HI\"\n",
    "print(text)\n",
    "print(type(text))"
   ]
  },
  {
   "cell_type": "code",
   "execution_count": 23,
   "id": "465a86ce",
   "metadata": {},
   "outputs": [
    {
     "name": "stdout",
     "output_type": "stream",
     "text": [
      "Please tell me your name:\n",
      "Josh\n",
      "Please tell me your age:\n",
      "20\n",
      "Please tell me your birthday:\n",
      "20001216\n",
      "Here is your introduction:\n",
      "My name is Josh.I am 20 years old.My birthday is 20001216.\n"
     ]
    }
   ],
   "source": [
    "print(\"Please tell me your name:\")\n",
    "name=input()\n",
    "print(\"Please tell me your age:\")\n",
    "age=input()\n",
    "print(\"Please tell me your birthday:\")\n",
    "birthday=input()\n",
    "print(\"Here is your introduction:\")\n",
    "intro=\"My name is \" + name +\".\"\n",
    "intro=intro+\"I am \" + age +\" years old.\"\n",
    "intro=intro+\"My birthday is \"+ birthday+\".\"\n",
    "print(intro)"
   ]
  },
  {
   "cell_type": "code",
   "execution_count": 26,
   "id": "4ffb7dcc",
   "metadata": {},
   "outputs": [
    {
     "ename": "TypeError",
     "evalue": "can only concatenate str (not \"int\") to str",
     "output_type": "error",
     "traceback": [
      "\u001b[1;31m---------------------------------------------------------------------------\u001b[0m",
      "\u001b[1;31mTypeError\u001b[0m                                 Traceback (most recent call last)",
      "Cell \u001b[1;32mIn[26], line 1\u001b[0m\n\u001b[1;32m----> 1\u001b[0m text\u001b[38;5;241m=\u001b[39m\u001b[38;5;124;43m\"\u001b[39;49m\u001b[38;5;124;43mASD\u001b[39;49m\u001b[38;5;124;43m\"\u001b[39;49m\u001b[38;5;241;43m+\u001b[39;49m\u001b[38;5;241;43m123\u001b[39;49m\n\u001b[0;32m      2\u001b[0m \u001b[38;5;28mprint\u001b[39m(text)\n",
      "\u001b[1;31mTypeError\u001b[0m: can only concatenate str (not \"int\") to str"
     ]
    }
   ],
   "source": [
    "text=\"ASD\"+123\n",
    "print(text)"
   ]
  },
  {
   "cell_type": "code",
   "execution_count": 27,
   "id": "968a87c8",
   "metadata": {},
   "outputs": [
    {
     "name": "stdout",
     "output_type": "stream",
     "text": [
      "123123123123123123123123123123123123123123123123123123123123123123123123123123123123123123123123123123123123123123123123123123123123123123123123123123123123123123123123123123123123123123123123123123123123123123123123123123123123123123123123123123123123123123123123123123123123123123123123123123123123123123123123123123123123123123123123123123123123123123123123123123123\n"
     ]
    }
   ],
   "source": [
    "text=\"123\"*123\n",
    "print(text)"
   ]
  },
  {
   "cell_type": "code",
   "execution_count": 31,
   "id": "d1c61389",
   "metadata": {},
   "outputs": [
    {
     "name": "stdout",
     "output_type": "stream",
     "text": [
      "請輸入第一個數字:\n",
      "23323.343434\n",
      "請輸入第二個數字:\n",
      "2323232.434343\n",
      "兩者相加為: 2346555.777777\n"
     ]
    }
   ],
   "source": [
    "#兩數相加計算器\n",
    "print(\"請輸入第一個數字:\")\n",
    "number1=input()\n",
    "text1=float(number1)\n",
    "print(\"請輸入第二個數字:\")\n",
    "number2=input()\n",
    "text2=float(number2)\n",
    "print(\"兩者相加為:\",text1 + text2)"
   ]
  },
  {
   "cell_type": "code",
   "execution_count": 35,
   "id": "181c5b71",
   "metadata": {},
   "outputs": [
    {
     "name": "stdout",
     "output_type": "stream",
     "text": [
      "請輸入第一個數字:\n",
      "184028\n",
      "請輸入第二個數字:\n",
      "3840\n",
      "兩者相乘為: 706667520.0\n"
     ]
    }
   ],
   "source": [
    "#兩數相乘計算器\n",
    "print(\"請輸入第一個數字:\")\n",
    "number1=float(input())\n",
    "print(\"請輸入第二個數字:\")\n",
    "number2=float(input())\n",
    "print(\"兩者相乘為:\",number1 * number2)"
   ]
  },
  {
   "cell_type": "code",
   "execution_count": 45,
   "id": "1845bebe",
   "metadata": {},
   "outputs": [
    {
     "name": "stdout",
     "output_type": "stream",
     "text": [
      "請告訴我該死的出生年份:\n",
      "2000\n",
      "可以退休的年份為:2065 ,請加油!\n"
     ]
    }
   ],
   "source": [
    "#退休年份計算器\n",
    "print(\"請告訴我該死的出生年份:\")\n",
    "year=int(input())\n",
    "year=str(int(year+65))\n",
    "print(\"可以退休的年份為:\"+year,\",請加油!\")"
   ]
  },
  {
   "cell_type": "code",
   "execution_count": 51,
   "id": "3f430b5d",
   "metadata": {},
   "outputs": [
    {
     "name": "stdout",
     "output_type": "stream",
     "text": [
      "請問您的名字?\n",
      "Josh\n",
      "您養的是甚麼寵物?\n",
      "牛\n",
      "寵物叫啥名字?\n",
      "cow\n",
      "您的出生年分?\n",
      "2000\n",
      "我的名字是Josh ,我的寵物是牛牠叫做cow ,我的退休年份是2065\n"
     ]
    }
   ],
   "source": [
    "#自我介紹及退休年份計算器\n",
    "print(\"請問您的名字?\")\n",
    "name=input()\n",
    "print(\"您養的是甚麼寵物?\")\n",
    "pet=input()\n",
    "print(\"寵物叫啥名字?\")\n",
    "petname=input()\n",
    "print(\"您的出生年分?\")\n",
    "year=int(input())\n",
    "print(\"我的名字是\"+name,\",我的寵物是\"+pet+\"牠叫做\"+petname,\",我的退休年份是\"+str(year+65))"
   ]
  },
  {
   "cell_type": "code",
   "execution_count": 54,
   "id": "54a68422",
   "metadata": {},
   "outputs": [
    {
     "name": "stdout",
     "output_type": "stream",
     "text": [
      "['aa', 'Aa', 'bb', 'Bb', 'cc', 'Cc', -1, -2, -3, -4, -5, 1.1, 1.2, 1.3, 1.4]\n",
      "<class 'list'>\n"
     ]
    }
   ],
   "source": [
    "my_list=[\"aa\",\"Aa\",\"bb\",\"Bb\",\"cc\",\"Cc\",-1,-2,-3,-4,-5,1.1,1.2,1.3,1.4]\n",
    "print(my_list)\n",
    "print(type(my_list))"
   ]
  },
  {
   "cell_type": "code",
   "execution_count": 55,
   "id": "bd716599",
   "metadata": {},
   "outputs": [
    {
     "name": "stdout",
     "output_type": "stream",
     "text": [
      "['水果1', 250, '水果2', 250, '水果3', 250, '水果4', 250]\n"
     ]
    }
   ],
   "source": [
    "list1=[\"水果1\",250,\"水果2\",250,\"水果3\",250,\"水果4\",250]\n",
    "print(list1)"
   ]
  },
  {
   "cell_type": "code",
   "execution_count": 64,
   "id": "c738a2a8",
   "metadata": {},
   "outputs": [
    {
     "name": "stdout",
     "output_type": "stream",
     "text": [
      "我的班級名字叫:zoo\n",
      "我的班級學生有: ['cat', 'dog', 'cow', 'apple', 'bird']\n"
     ]
    }
   ],
   "source": [
    "name=[\"cat\",\"dog\",\"cow\",\"apple\",\"bird\"]\n",
    "classname=\"zoo\"\n",
    "print(\"我的班級名字叫:\"+classname)\n",
    "print(\"我的班級學生有:\",name)"
   ]
  },
  {
   "cell_type": "code",
   "execution_count": 63,
   "id": "3e00a502",
   "metadata": {
    "scrolled": true
   },
   "outputs": [
    {
     "name": "stdout",
     "output_type": "stream",
     "text": [
      "我等等下課要去ikea買這些東西 ['dog', 'cat', 'cow', 'bird', 'iphone']\n"
     ]
    }
   ],
   "source": [
    "market=\"ikea\"\n",
    "need2buy=[\"dog\",\"cat\",\"cow\",\"bird\",\"iphone\"]\n",
    "print(\"我等等下課要去\"+market+\"買這些東西\",need2buy)\n"
   ]
  },
  {
   "cell_type": "code",
   "execution_count": 65,
   "id": "f134c055",
   "metadata": {},
   "outputs": [
    {
     "name": "stdout",
     "output_type": "stream",
     "text": [
      "['Aa', 'Bb', 'Cc', 1, 2, 3, 4, 5, 6, 7, 8, 9]\n",
      "<class 'list'>\n"
     ]
    }
   ],
   "source": [
    "list_1=[\"Aa\",\"Bb\",\"Cc\"]\n",
    "list_2=[1,2,3,4,5,6,7,8,9]\n",
    "a = list_1+list_2\n",
    "print(a)\n",
    "print(type(a))"
   ]
  },
  {
   "cell_type": "code",
   "execution_count": 68,
   "id": "a3ac2629",
   "metadata": {},
   "outputs": [
    {
     "name": "stdout",
     "output_type": "stream",
     "text": [
      "[1, 2, 3, 'A', 1, 2, 3, 'A']\n",
      "<class 'list'>\n",
      "1\n",
      "2\n",
      "3\n",
      "A\n"
     ]
    }
   ],
   "source": [
    "list_3=[1,2,3,\"A\"]\n",
    "a=list_3*2\n",
    "print(a)\n",
    "print(type(a))\n",
    "print(list_3[0])\n",
    "print(list_3[1])\n",
    "print(list_3[2])\n",
    "print(list_3[3])"
   ]
  },
  {
   "cell_type": "code",
   "execution_count": 71,
   "id": "5d474885",
   "metadata": {},
   "outputs": [
    {
     "name": "stdout",
     "output_type": "stream",
     "text": [
      "1\n"
     ]
    }
   ],
   "source": [
    "#字典\n",
    "book={\"Aa\":1,\"Bb\":2,\"Cc\":3}\n",
    "x=book[\"Aa\"]\n",
    "print(x)"
   ]
  },
  {
   "cell_type": "code",
   "execution_count": 75,
   "id": "0c1da8b7",
   "metadata": {},
   "outputs": [
    {
     "name": "stdout",
     "output_type": "stream",
     "text": [
      "君の名は。\n",
      "新海誠\n",
      "['立花 瀧', '宮水 三葉', '宮水 一葉', '奥寺 ミキ', '勅使河原 克彦', '名取 早耶香', '藤井 司']\n",
      "7.5 億日圓\n",
      "3.822 億美元\n",
      "1 小時 52 分鐘\n",
      "{'year': '2016', 'month': '10', 'day': '21'}\n"
     ]
    }
   ],
   "source": [
    "#喜歡電影的字典\n",
    "love_movie={\"name\":\"君の名は。\",\n",
    "           \"director\":\"新海誠\",\n",
    "           \"main_cast\":[\"立花 瀧\",\"宮水 三葉\",\"宮水 一葉\",\"奥寺 ミキ\",\"勅使河原 克彦\",\"名取 早耶香\",\"藤井 司\"],\n",
    "           \"budget\":\"7.5 億日圓\",\n",
    "           \"box_office\":\"3.822 億美元\",\n",
    "           \"runningtime\":\"1 小時 52 分鐘\",\n",
    "           \"date\":{\"year\":\"2016\",\"month\":\"10\",\"day\":\"21\"}}\n",
    "print(love_movie[\"name\"])\n",
    "print(love_movie[\"director\"])\n",
    "print(love_movie[\"main_cast\"])\n",
    "print(love_movie[\"budget\"])\n",
    "print(love_movie[\"box_office\"])\n",
    "print(love_movie[\"runningtime\"])\n",
    "print(love_movie[\"date\"])"
   ]
  },
  {
   "cell_type": "code",
   "execution_count": null,
   "id": "8dc8b999",
   "metadata": {},
   "outputs": [],
   "source": []
  }
 ],
 "metadata": {
  "kernelspec": {
   "display_name": "Python 3 (ipykernel)",
   "language": "python",
   "name": "python3"
  },
  "language_info": {
   "codemirror_mode": {
    "name": "ipython",
    "version": 3
   },
   "file_extension": ".py",
   "mimetype": "text/x-python",
   "name": "python",
   "nbconvert_exporter": "python",
   "pygments_lexer": "ipython3",
   "version": "3.10.9"
  }
 },
 "nbformat": 4,
 "nbformat_minor": 5
}
