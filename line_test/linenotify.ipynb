{
 "cells": [
  {
   "cell_type": "code",
   "execution_count": 20,
   "id": "f2ed5fac",
   "metadata": {},
   "outputs": [
    {
     "data": {
      "text/plain": [
       "<Response [200]>"
      ]
     },
     "execution_count": 20,
     "metadata": {},
     "output_type": "execute_result"
    }
   ],
   "source": [
    "import requests\n",
    "\n",
    "# LINE Notify 權杖\n",
    "token = 'JIWQ7gh6DgVFzVQfOUXTRISEYtD1EI89sVQ6J3an8rP'\n",
    "\n",
    "# 要發送的訊息\n",
    "message = '起床囉'\n",
    "\n",
    "#要傳送的圖片檔案\n",
    "i = open(\"D:\\JOSHWANG\\各種圖片\\電腦壁紙\\white-hair-legs-1946703.jpg\", 'rb')\n",
    "f = { 'imageFile': i }\n",
    "\n",
    "# HTTP 標頭參數與資料\n",
    "h = { \"Authorization\": \"Bearer \" + token }\n",
    "d = { 'message': message }\n",
    "\n",
    "# 以 requests 發送 POST 請求\n",
    "requests.post(\"https://notify-api.line.me/api/notify\",\n",
    "    headers = h, data = d,files=f)"
   ]
  },
  {
   "cell_type": "code",
   "execution_count": null,
   "id": "3139c0e0",
   "metadata": {},
   "outputs": [],
   "source": []
  }
 ],
 "metadata": {
  "kernelspec": {
   "display_name": "Python 3 (ipykernel)",
   "language": "python",
   "name": "python3"
  },
  "language_info": {
   "codemirror_mode": {
    "name": "ipython",
    "version": 3
   },
   "file_extension": ".py",
   "mimetype": "text/x-python",
   "name": "python",
   "nbconvert_exporter": "python",
   "pygments_lexer": "ipython3",
   "version": "3.10.9"
  }
 },
 "nbformat": 4,
 "nbformat_minor": 5
}
